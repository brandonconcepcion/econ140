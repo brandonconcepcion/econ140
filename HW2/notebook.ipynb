{
 "cells": [
  {
   "cell_type": "markdown",
   "id": "bbe02ff3",
   "metadata": {},
   "source": [
    "# ECON 140: Econometrics (UC Berkeley)\n",
    "\n",
    "## Homework #2: Class Size and Student Performance\n",
    "\n",
    "### Brandon Lee Concepcion, 3037601855, UC Berkeley\n",
    "\n",
    "Below is all my code, and accompanying answers, for ECON 140: Econometrics HW #2"
   ]
  },
  {
   "cell_type": "code",
   "execution_count": null,
   "id": "73e64e46",
   "metadata": {},
   "outputs": [],
   "source": [
    "import pandas as pd\n",
    "import numpy as np\n",
    "import scipy.stats as stats"
   ]
  },
  {
   "cell_type": "code",
   "execution_count": 3,
   "id": "fea914f9",
   "metadata": {},
   "outputs": [
    {
     "data": {
      "text/html": [
       "<div>\n",
       "<style scoped>\n",
       "    .dataframe tbody tr th:only-of-type {\n",
       "        vertical-align: middle;\n",
       "    }\n",
       "\n",
       "    .dataframe tbody tr th {\n",
       "        vertical-align: top;\n",
       "    }\n",
       "\n",
       "    .dataframe thead th {\n",
       "        text-align: right;\n",
       "    }\n",
       "</style>\n",
       "<table border=\"1\" class=\"dataframe\">\n",
       "  <thead>\n",
       "    <tr style=\"text-align: right;\">\n",
       "      <th></th>\n",
       "      <th>testscr</th>\n",
       "      <th>str</th>\n",
       "      <th>avginc</th>\n",
       "      <th>el_pct</th>\n",
       "    </tr>\n",
       "  </thead>\n",
       "  <tbody>\n",
       "    <tr>\n",
       "      <th>0</th>\n",
       "      <td>690.80</td>\n",
       "      <td>17.88991</td>\n",
       "      <td>22.690000</td>\n",
       "      <td>0.000000</td>\n",
       "    </tr>\n",
       "    <tr>\n",
       "      <th>1</th>\n",
       "      <td>661.20</td>\n",
       "      <td>21.52466</td>\n",
       "      <td>9.824000</td>\n",
       "      <td>4.583333</td>\n",
       "    </tr>\n",
       "    <tr>\n",
       "      <th>2</th>\n",
       "      <td>643.60</td>\n",
       "      <td>18.69723</td>\n",
       "      <td>8.978000</td>\n",
       "      <td>30.000000</td>\n",
       "    </tr>\n",
       "    <tr>\n",
       "      <th>3</th>\n",
       "      <td>647.70</td>\n",
       "      <td>17.35714</td>\n",
       "      <td>8.978000</td>\n",
       "      <td>0.000000</td>\n",
       "    </tr>\n",
       "    <tr>\n",
       "      <th>4</th>\n",
       "      <td>640.85</td>\n",
       "      <td>18.67133</td>\n",
       "      <td>9.080333</td>\n",
       "      <td>13.857680</td>\n",
       "    </tr>\n",
       "  </tbody>\n",
       "</table>\n",
       "</div>"
      ],
      "text/plain": [
       "   testscr       str     avginc     el_pct\n",
       "0   690.80  17.88991  22.690000   0.000000\n",
       "1   661.20  21.52466   9.824000   4.583333\n",
       "2   643.60  18.69723   8.978000  30.000000\n",
       "3   647.70  17.35714   8.978000   0.000000\n",
       "4   640.85  18.67133   9.080333  13.857680"
      ]
     },
     "execution_count": 3,
     "metadata": {},
     "output_type": "execute_result"
    }
   ],
   "source": [
    "df = pd.read_csv('caschool.csv', delimiter=';')\n",
    "df.head()"
   ]
  },
  {
   "cell_type": "markdown",
   "id": "4be9a058",
   "metadata": {},
   "source": [
    "---"
   ]
  },
  {
   "cell_type": "markdown",
   "id": "5778776b",
   "metadata": {},
   "source": [
    "## Question 1. Estimating the regression equation \n",
    "\n",
    "We have been asked to report the estimate intercept $\\hat{\\beta_0}$ and $\\hat{\\beta_1}$ for the regression model defined below as\n",
    "\n",
    "$$ testscr_i = \\beta_0 + \\beta_1 str_i + u_i$$\n",
    "\n",
    "We can definitely make use of our equations from lecture in order to calculate our desired quantities!"
   ]
  },
  {
   "cell_type": "code",
   "execution_count": 6,
   "id": "73fb5fd0",
   "metadata": {},
   "outputs": [
    {
     "name": "stdout",
     "output_type": "stream",
     "text": [
      "We found b0 to be 698.9329772025982\n",
      "We found b1 to be -2.2798095950788158\n"
     ]
    }
   ],
   "source": [
    "X = df[\"str\"]\n",
    "y = df['testscr']\n",
    "\n",
    "X_mean = X.mean()\n",
    "y_mean = y.mean()\n",
    "\n",
    "sample_cov = np.sum(((X - X_mean)) * ((y - y_mean)) )\n",
    "sample_var = np.sum((X - X_mean)**2)\n",
    "\n",
    "b_1 = sample_cov / sample_var\n",
    "b_0 = y_mean - b_1 * X_mean\n",
    "\n",
    "print(f'We found b0 to be {b_0}')\n",
    "print(f'We found b1 to be {b_1}')"
   ]
  },
  {
   "cell_type": "markdown",
   "id": "d63b3df9",
   "metadata": {},
   "source": [
    "### Interpreting the Coefficients\n",
    "\n",
    "Looking at our interecept, it tells us that when $str = 0$ our baseline test score is $698.93$. We know this because $\\beta_0 = 698.93$. Do note that a student-teacher ratio of $0$, or even less than $0$, does not actually provide much value in this scenario.\n",
    "\n",
    "Interpreting our coefficient, $\\beta_1$, we can see that as we increase the # of students per teacher by 1, the associated average test score goes **reduces** by $2.28$ points. This is because $\\beta_1 = -2.28$ based on our calculations\n",
    "\n",
    "---"
   ]
  },
  {
   "cell_type": "markdown",
   "id": "14e0c599",
   "metadata": {},
   "source": [
    "## Question 2. Using the regression equation \n",
    "\n",
    "Predict the average test score for districts with the following class sizes (student-teacher ratios):\n",
    "\n",
    "$$STR = 14, 20, 25, 30 $$\n",
    "\n",
    "Comment on how predicted performance changes as class size increase"
   ]
  },
  {
   "cell_type": "code",
   "execution_count": 7,
   "id": "43ee8afe",
   "metadata": {},
   "outputs": [
    {
     "name": "stdout",
     "output_type": "stream",
     "text": [
      "The predicted test score for a student-teacher ratio of 14 is 667.0156428714947\n",
      "The predicted test score for a student-teacher ratio of 20 is 653.3367853010219\n",
      "The predicted test score for a student-teacher ratio of 25 is 641.9377373256278\n",
      "The predicted test score for a student-teacher ratio of 30 is 630.5386893502337\n"
     ]
    }
   ],
   "source": [
    "given_STR = np.array([14, 20, 25, 30])\n",
    "\n",
    "predicted_scores = b_0 + b_1 * given_STR\n",
    "\n",
    "for i in range(len(given_STR)):\n",
    "    print(f'The predicted test score for a student-teacher ratio of {given_STR[i]} is {predicted_scores[i]}')"
   ]
  },
  {
   "cell_type": "markdown",
   "id": "795150e0",
   "metadata": {},
   "source": [
    "### Interpretation\n",
    "\n",
    "Looking at our values, we can clearly see that as we increase the number of students per teacher, the predicted average test score decreases lineaarly. This was to be expected, as remember from our regression equation that our slope $\\beta_1$ was negative. \n",
    "\n",
    "--- "
   ]
  },
  {
   "cell_type": "markdown",
   "id": "a974dc0a",
   "metadata": {},
   "source": [
    "## Question 3. Suppose the government is adding more students per class\n",
    "\n",
    "- By how many points would the predicted test score change if we increase class size by 10 students (holding everything else constant)?\n",
    "- What about an increase of 5 students? 20 students?\n",
    "\n",
    "Use your $\\hat{\\beta_1}$ to answer each"
   ]
  },
  {
   "cell_type": "code",
   "execution_count": 8,
   "id": "f8a390f4",
   "metadata": {},
   "outputs": [
    {
     "name": "stdout",
     "output_type": "stream",
     "text": [
      "The predicted test score would decrease by -22.79809595078816 points if we increase class size by 10 students\n",
      "The predicted test score would decrease by -11.39904797539408 points if we increase class size by 5 students\n",
      "The predicted test score would decrease by -45.59619190157632 points if we increase class size by 20 students\n"
     ]
    }
   ],
   "source": [
    "increase_by_10 = b_1 * 10\n",
    "increase_by_5 = b_1 * 5\n",
    "increase_by_20 = b_1 * 20\n",
    "\n",
    "print(f'The predicted test score would decrease by {increase_by_10} points if we increase class size by 10 students')\n",
    "print(f'The predicted test score would decrease by {increase_by_5} points if we increase class size by 5 students')\n",
    "print(f'The predicted test score would decrease by {increase_by_20} points if we increase class size by 20 students')"
   ]
  },
  {
   "cell_type": "markdown",
   "id": "bd3128f3",
   "metadata": {},
   "source": [
    "### Interpretation\n",
    "\n",
    "Assuming we held everything else constant:\n",
    "- The predicted test score would **decrease** by $22.80$ $(-22.80)$ points if we were to add 10 students\n",
    "\n",
    "- The predicted test score would **decrease** by $11.40$ $(-11.40)$ points if we were to add 5 students\n",
    "- The predicted test score would **decrease** by $45.60$ $(-45.60)$ points if we were to add 20 students\n",
    "\n",
    "---"
   ]
  },
  {
   "cell_type": "markdown",
   "id": "41258b91",
   "metadata": {},
   "source": [
    "## Question 4. Constructing a $95\\%$ and $99\\%$ confidence interval for $\\beta_1$\n",
    "\n",
    "- Based on these intervals, do you conclude that class size has a statistically significant effect on test scores?\n",
    "- Explain the economic and statistical interpretation of your results"
   ]
  },
  {
   "cell_type": "code",
   "execution_count": 12,
   "id": "a01f5c12",
   "metadata": {},
   "outputs": [
    {
     "name": "stdout",
     "output_type": "stream",
     "text": [
      "The 95% confidence interval for beta_1 is [np.float64(-3.222981302773272), np.float64(-1.3366378873843592)]\n",
      "The 99% confidence interval for beta_1 is [np.float64(-3.5214263854300545), np.float64(-1.038192804727577)]\n"
     ]
    }
   ],
   "source": [
    "n = df.shape[0]\n",
    "\n",
    "# Calculate the standard error of the regression coefficient\n",
    "se_b1 = np.sqrt(np.sum((y - (b_0 + b_1 * X))**2) / (n - 2)) / np.sqrt(np.sum((X - X_mean)**2))\n",
    "\n",
    "# Calculate the t-values for 95% and 99% confidence intervals\n",
    "t_95 = stats.t.ppf(0.975, n - 2)\n",
    "t_99 = stats.t.ppf(0.995, n - 2)\n",
    "\n",
    "# Calculate the confidence intervals\n",
    "ci_95 = [b_1 - t_95 * se_b1, b_1 + t_95 * se_b1]\n",
    "ci_99 = [b_1 - t_99 * se_b1, b_1 + t_99 * se_b1]\n",
    "\n",
    "print(f'The 95% confidence interval for beta_1 is {ci_95}')\n",
    "print(f'The 99% confidence interval for beta_1 is {ci_99}')\n"
   ]
  },
  {
   "cell_type": "markdown",
   "id": "c1336f69",
   "metadata": {},
   "source": [
    "### Interpretation\n",
    "\n",
    "If we were to assume a null hypothesis $H_0 : \\beta_1 = 0 $, then we would reject this null hypothesis. At both a $95\\%$ and $99\\%$ confidence level, we can conclude with statistical significance that the true value of $\\beta_1$ is likely $\\beta_1 < 0$, as the intervals we generated **both** do not contain the value of $0$. \n",
    "\n",
    "An economic interpretation of these results it that for every additional student which is added per teacher, we can expect a mean drop in their test scores by $2.28$ points\n",
    "\n",
    "---"
   ]
  },
  {
   "cell_type": "markdown",
   "id": "4766f34f",
   "metadata": {},
   "source": [
    "## Question 5. Marginal Impact \n",
    "\n",
    "The California government will only invest money in reducing class sizes if the *marginal impact of decreasing class size by one student* is at least 2 points in average test scores. Formally test this claim at the $5\\%$ significance level\n",
    "\n",
    "- Write the null and alternative hypothesis in terms of parameter(s)\n",
    "- Use your regression results to test it at the $95\\%$ confidence level\n",
    "- What is your recommendation?"
   ]
  },
  {
   "cell_type": "code",
   "execution_count": 13,
   "id": "6ad13178",
   "metadata": {},
   "outputs": [
    {
     "name": "stdout",
     "output_type": "stream",
     "text": [
      "The t-statistic is -0.5831485983539039\n",
      "The p-value is 0.2800538740968571\n"
     ]
    }
   ],
   "source": [
    "t_statistic = (b_1 - (-2)) / se_b1\n",
    "p_value = stats.t.cdf(t_statistic, n - 2)\n",
    "\n",
    "print(f'The t-statistic is {t_statistic}')\n",
    "print(f'The p-value is {p_value}')"
   ]
  },
  {
   "cell_type": "markdown",
   "id": "1643ea0d",
   "metadata": {},
   "source": [
    "### Interpretation\n",
    "\n",
    "We can define our hypotheses as follows: \n",
    "- Null hypothesis $H_0 : \\beta_1 = -2 $\n",
    "- Alternative hypothesis $H_A : \\beta_1 < -2 $\n",
    "\n",
    "Looking at our results, we see that our p-value is $0.28$, which is not less than our $0.05$ cutoff required to reject the null hypothesis. As a result, our test concludes that we **fail to reject the null hypothesis** at a $95\\%$ confidence level. Our evidence is not sufficient enough to conclude that the marginal impact of decreasing class size by one student is at least a 2 point increase in average test scores. Therefore, the California government should not be investing their money to reduce these class sizes\n",
    "\n",
    "---"
   ]
  },
  {
   "cell_type": "markdown",
   "id": "55f30daa",
   "metadata": {},
   "source": [
    "## Question 6. Summarizing our Findings \n",
    "\n",
    "Summarize your findings in a short paragraph for a policy brief to the California government: \n",
    "\n",
    "- Should they reduce class sizes? Justify your recommendation using your regression results and the confidence intervals. \n",
    "- Be critical about why (or why not) the government should trust these results. How would extend the analysis for adressing potential drawbacks."
   ]
  },
  {
   "cell_type": "markdown",
   "id": "bf30e1ac",
   "metadata": {},
   "source": [
    "### Our Interpretation\n",
    "\n",
    "The initial confidence intervals we generated at a 95% and 99% cnfidence level *do* show statistical significance in regards to effect of class size on test scores. We *do* see that the marginal impact of decreasing class size by one student *does* seem to increase the average test score as a whole. However, a difference of 2 points has still not been revealed as statistically significant. As seen in the previous question, if the California government made it absolutely necessary for a 2-point improvement in test scores, for every reduction in class size by 1 student, at a 95% confidence level we would be **unable** to provide a statistically significant outcome.\n",
    "\n",
    "While these results do provide statistical significance in regards to student-teacher ratio to test scores, this is just one attribute / factor which is used as part of our analysis. In reality, there are many other factors which *we did not account for** which could also be revealing about their effects on test scores. Revising our model from a Simple Linear Regression model to a Multiple Linear Regression model could be more robust, and could help with identifying the key areas of imporvement for students. \n",
    "\n",
    "---"
   ]
  }
 ],
 "metadata": {
  "kernelspec": {
   "display_name": "189venv",
   "language": "python",
   "name": "python3"
  },
  "language_info": {
   "codemirror_mode": {
    "name": "ipython",
    "version": 3
   },
   "file_extension": ".py",
   "mimetype": "text/x-python",
   "name": "python",
   "nbconvert_exporter": "python",
   "pygments_lexer": "ipython3",
   "version": "3.13.1"
  }
 },
 "nbformat": 4,
 "nbformat_minor": 5
}
